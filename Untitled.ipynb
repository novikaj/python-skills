{
 "cells": [
  {
   "cell_type": "code",
   "execution_count": 1,
   "metadata": {},
   "outputs": [
    {
     "name": "stdout",
     "output_type": "stream",
     "text": [
      "Requirement already satisfied: geograpy3 in /opt/homebrew/anaconda3/lib/python3.8/site-packages (0.1.24)\n",
      "Requirement already satisfied: pycountry in /opt/homebrew/anaconda3/lib/python3.8/site-packages (from geograpy3) (20.7.3)\n",
      "Requirement already satisfied: jellyfish in /opt/homebrew/anaconda3/lib/python3.8/site-packages (from geograpy3) (0.8.2)\n",
      "Requirement already satisfied: numpy in /opt/homebrew/anaconda3/lib/python3.8/site-packages (from geograpy3) (1.19.2)\n",
      "Requirement already satisfied: pylodstorage in /opt/homebrew/anaconda3/lib/python3.8/site-packages (from geograpy3) (0.0.32)\n",
      "Requirement already satisfied: newspaper3k in /opt/homebrew/anaconda3/lib/python3.8/site-packages (from geograpy3) (0.2.8)\n",
      "Requirement already satisfied: nltk in /opt/homebrew/anaconda3/lib/python3.8/site-packages (from geograpy3) (3.5)\n",
      "Requirement already satisfied: SPARQLWrapper in /opt/homebrew/anaconda3/lib/python3.8/site-packages (from pylodstorage->geograpy3) (1.8.5)\n",
      "Requirement already satisfied: pandas in /opt/homebrew/anaconda3/lib/python3.8/site-packages (from pylodstorage->geograpy3) (1.1.3)\n",
      "Requirement already satisfied: PyYAML in /opt/homebrew/anaconda3/lib/python3.8/site-packages (from pylodstorage->geograpy3) (5.3.1)\n",
      "Requirement already satisfied: lxml>=3.6.0 in /opt/homebrew/anaconda3/lib/python3.8/site-packages (from newspaper3k->geograpy3) (4.6.1)\n",
      "Requirement already satisfied: tldextract>=2.0.1 in /opt/homebrew/anaconda3/lib/python3.8/site-packages (from newspaper3k->geograpy3) (3.1.0)\n",
      "Requirement already satisfied: cssselect>=0.9.2 in /opt/homebrew/anaconda3/lib/python3.8/site-packages (from newspaper3k->geograpy3) (1.1.0)\n",
      "Requirement already satisfied: python-dateutil>=2.5.3 in /opt/homebrew/anaconda3/lib/python3.8/site-packages (from newspaper3k->geograpy3) (2.8.1)\n",
      "Requirement already satisfied: Pillow>=3.3.0 in /opt/homebrew/anaconda3/lib/python3.8/site-packages (from newspaper3k->geograpy3) (8.0.1)\n",
      "Requirement already satisfied: feedparser>=5.2.1 in /opt/homebrew/anaconda3/lib/python3.8/site-packages (from newspaper3k->geograpy3) (6.0.6)\n",
      "Requirement already satisfied: feedfinder2>=0.0.4 in /opt/homebrew/anaconda3/lib/python3.8/site-packages (from newspaper3k->geograpy3) (0.0.4)\n",
      "Requirement already satisfied: tinysegmenter==0.3 in /opt/homebrew/anaconda3/lib/python3.8/site-packages (from newspaper3k->geograpy3) (0.3)\n",
      "Requirement already satisfied: requests>=2.10.0 in /opt/homebrew/anaconda3/lib/python3.8/site-packages (from newspaper3k->geograpy3) (2.24.0)\n",
      "Requirement already satisfied: jieba3k>=0.35.1 in /opt/homebrew/anaconda3/lib/python3.8/site-packages (from newspaper3k->geograpy3) (0.35.1)\n",
      "Requirement already satisfied: beautifulsoup4>=4.4.1 in /opt/homebrew/anaconda3/lib/python3.8/site-packages (from newspaper3k->geograpy3) (4.9.3)\n",
      "Requirement already satisfied: regex in /opt/homebrew/anaconda3/lib/python3.8/site-packages (from nltk->geograpy3) (2020.10.15)\n",
      "Requirement already satisfied: click in /opt/homebrew/anaconda3/lib/python3.8/site-packages (from nltk->geograpy3) (7.1.2)\n",
      "Requirement already satisfied: tqdm in /opt/homebrew/anaconda3/lib/python3.8/site-packages (from nltk->geograpy3) (4.50.2)\n",
      "Requirement already satisfied: joblib in /opt/homebrew/anaconda3/lib/python3.8/site-packages (from nltk->geograpy3) (0.17.0)\n",
      "Requirement already satisfied: rdflib>=4.0 in /opt/homebrew/anaconda3/lib/python3.8/site-packages (from SPARQLWrapper->pylodstorage->geograpy3) (5.0.0)\n",
      "Requirement already satisfied: pytz>=2017.2 in /opt/homebrew/anaconda3/lib/python3.8/site-packages (from pandas->pylodstorage->geograpy3) (2020.1)\n",
      "Requirement already satisfied: idna in /opt/homebrew/anaconda3/lib/python3.8/site-packages (from tldextract>=2.0.1->newspaper3k->geograpy3) (2.10)\n",
      "Requirement already satisfied: requests-file>=1.4 in /opt/homebrew/anaconda3/lib/python3.8/site-packages (from tldextract>=2.0.1->newspaper3k->geograpy3) (1.5.1)\n",
      "Requirement already satisfied: filelock>=3.0.8 in /opt/homebrew/anaconda3/lib/python3.8/site-packages (from tldextract>=2.0.1->newspaper3k->geograpy3) (3.0.12)\n",
      "Requirement already satisfied: six>=1.5 in /opt/homebrew/anaconda3/lib/python3.8/site-packages (from python-dateutil>=2.5.3->newspaper3k->geograpy3) (1.15.0)\n",
      "Requirement already satisfied: sgmllib3k in /opt/homebrew/anaconda3/lib/python3.8/site-packages (from feedparser>=5.2.1->newspaper3k->geograpy3) (1.0.0)\n",
      "Requirement already satisfied: urllib3!=1.25.0,!=1.25.1,<1.26,>=1.21.1 in /opt/homebrew/anaconda3/lib/python3.8/site-packages (from requests>=2.10.0->newspaper3k->geograpy3) (1.25.11)\n",
      "Requirement already satisfied: certifi>=2017.4.17 in /opt/homebrew/anaconda3/lib/python3.8/site-packages (from requests>=2.10.0->newspaper3k->geograpy3) (2020.6.20)\n",
      "Requirement already satisfied: chardet<4,>=3.0.2 in /opt/homebrew/anaconda3/lib/python3.8/site-packages (from requests>=2.10.0->newspaper3k->geograpy3) (3.0.4)\n",
      "Requirement already satisfied: soupsieve>1.2; python_version >= \"3.0\" in /opt/homebrew/anaconda3/lib/python3.8/site-packages (from beautifulsoup4>=4.4.1->newspaper3k->geograpy3) (2.0.1)\n",
      "Requirement already satisfied: isodate in /opt/homebrew/anaconda3/lib/python3.8/site-packages (from rdflib>=4.0->SPARQLWrapper->pylodstorage->geograpy3) (0.6.0)\n",
      "Requirement already satisfied: pyparsing in /opt/homebrew/anaconda3/lib/python3.8/site-packages (from rdflib>=4.0->SPARQLWrapper->pylodstorage->geograpy3) (2.4.7)\n",
      "Note: you may need to restart the kernel to use updated packages.\n"
     ]
    }
   ],
   "source": [
    "pip install geograpy3"
   ]
  },
  {
   "cell_type": "code",
   "execution_count": 14,
   "metadata": {},
   "outputs": [],
   "source": [
    "import geograpy"
   ]
  },
  {
   "cell_type": "code",
   "execution_count": 23,
   "metadata": {},
   "outputs": [
    {
     "name": "stderr",
     "output_type": "stream",
     "text": [
      "[nltk_data] Downloading package averaged_perceptron_tagger to\n",
      "[nltk_data]     /Users/malynka/nltk_data...\n",
      "[nltk_data]   Package averaged_perceptron_tagger is already up-to-\n",
      "[nltk_data]       date!\n",
      "[nltk_data] Downloading package maxent_ne_chunker to\n",
      "[nltk_data]     /Users/malynka/nltk_data...\n",
      "[nltk_data]   Unzipping chunkers/maxent_ne_chunker.zip.\n"
     ]
    },
    {
     "data": {
      "text/plain": [
       "True"
      ]
     },
     "execution_count": 23,
     "metadata": {},
     "output_type": "execute_result"
    }
   ],
   "source": [
    "import nltk\n",
    "nltk.download('averaged_perceptron_tagger')\n",
    "nltk.download('maxent_ne_chunker')"
   ]
  },
  {
   "cell_type": "code",
   "execution_count": 17,
   "metadata": {},
   "outputs": [
    {
     "name": "stderr",
     "output_type": "stream",
     "text": [
      "[nltk_data] Downloading package punkt to /Users/malynka/nltk_data...\n",
      "[nltk_data]   Package punkt is already up-to-date!\n"
     ]
    },
    {
     "data": {
      "text/plain": [
       "True"
      ]
     },
     "execution_count": 17,
     "metadata": {},
     "output_type": "execute_result"
    }
   ],
   "source": [
    "nltk.download('punkt')"
   ]
  },
  {
   "cell_type": "code",
   "execution_count": 25,
   "metadata": {},
   "outputs": [
    {
     "name": "stderr",
     "output_type": "stream",
     "text": [
      "[nltk_data] Downloading package words to /Users/malynka/nltk_data...\n",
      "[nltk_data]   Unzipping corpora/words.zip.\n"
     ]
    },
    {
     "data": {
      "text/plain": [
       "True"
      ]
     },
     "execution_count": 25,
     "metadata": {},
     "output_type": "execute_result"
    }
   ],
   "source": [
    "nltk.download('words')"
   ]
  },
  {
   "cell_type": "code",
   "execution_count": 26,
   "metadata": {},
   "outputs": [
    {
     "name": "stdout",
     "output_type": "stream",
     "text": [
      "Downloading /opt/homebrew/anaconda3/lib/python3.8/site-packages/geograpy/locs.db.gz from http://wiki.bitplan.com/images/confident/locs.db.gz ... this might take a few seconds\n",
      "unzipping /opt/homebrew/anaconda3/lib/python3.8/site-packages/geograpy/locs.db from /opt/homebrew/anaconda3/lib/python3.8/site-packages/geograpy/locs.db.gz\n"
     ]
    }
   ],
   "source": [
    "import geograpy\n",
    "url = 'https://en.wikipedia.org/wiki/2012_Summer_Olympics_torch_relay'\n",
    "places = geograpy.get_geoPlace_context(url=url)"
   ]
  },
  {
   "cell_type": "code",
   "execution_count": 31,
   "metadata": {},
   "outputs": [],
   "source": [
    "from geograpy import places"
   ]
  },
  {
   "cell_type": "code",
   "execution_count": null,
   "metadata": {},
   "outputs": [],
   "source": []
  }
 ],
 "metadata": {
  "kernelspec": {
   "display_name": "Python 3",
   "language": "python",
   "name": "python3"
  },
  "language_info": {
   "codemirror_mode": {
    "name": "ipython",
    "version": 3
   },
   "file_extension": ".py",
   "mimetype": "text/x-python",
   "name": "python",
   "nbconvert_exporter": "python",
   "pygments_lexer": "ipython3",
   "version": "3.8.5"
  }
 },
 "nbformat": 4,
 "nbformat_minor": 4
}
